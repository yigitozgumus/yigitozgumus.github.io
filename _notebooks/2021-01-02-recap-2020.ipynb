{
 "cells": [
  {
   "cell_type": "markdown",
   "metadata": {},
   "source": [
    "# \"Recap of 2020, Roadmap for 2021\"\n",
    "> \"Thoughts on the year that must not be named, and my plans for 2021\"\n",
    "\n",
    "- toc: false\n",
    "- badges: false\n",
    "- comments: true\n",
    "- categories: [blog, life, misc]\n",
    "- image: \"images/posts/2021-roadmap/header.jpg\"\n",
    "- hide: false"
   ]
  },
  {
   "cell_type": "markdown",
   "metadata": {},
   "source": [
    "I haven't posted anything new this past year. Other than the fact that the whole world faced an epidemic \n",
    "which we only accustomed to see on tv shows and post apocalyptic movies, \n",
    "I was particularly being lazy and procastinated most of my plans regarding to this website. But despite the lack of posts,\n",
    "year 2020 was actually quite a journey. I joined Commencis as a Software Engineer and started working on the Pegasus Team. \n",
    "Then the Covid-19 pandemic came out of nowhere and our still ongoing work from home period has begun. \n",
    "For almost 1 year (6th of January is the exact milestone) I have been working at Commencis. It has been a quite exciting journey and I learned so much about how to develop a product and what agile software development really is."
   ]
  },
  {
   "cell_type": "markdown",
   "metadata": {},
   "source": [
    "My 2021 Resolutions revolve around growing and learning more as an engineer and honing my skills even more. \n",
    "Working with 20+ plus team at Commencis showed me how much communication is really important during design, \n",
    "development and testing stages of our work. So I want to write more to this website and become more comfortable around writing to communicate. \n",
    "It's one of my weak points and I want to throw myself out there to learn, spartan style :)\n"
   ]
  },
  {
   "cell_type": "markdown",
   "metadata": {},
   "source": [
    "![](images/roadmap/sparta.gif)"
   ]
  },
  {
   "cell_type": "markdown",
   "metadata": {},
   "source": [
    "For me, that means a new blog post every two weeks. That seemed reasonable enough goal while I was writing this post, time will tell this of course. I changed my website into more minimalistic design and added fastpages integration for easier posting (this post is actually a jupyter notebook even though it doesn't have to be). I want all the options available to me, so fingers crossed for more high quality posts this year."
   ]
  },
  {
   "cell_type": "markdown",
   "metadata": {},
   "source": [
    "In 2020, I couldn't complete many of my resolutions including reading. I aim to read more this year. That includes both technical textbooks to learn new stuff and also books in general. Maybe reading more may evolve into posts about key notes and highlights of the books I read."
   ]
  },
  {
   "cell_type": "markdown",
   "metadata": {},
   "source": [
    "In conclusion, 2021 is here. And we don't know for sure if it will be the incremented version of 2020 or a new, fresh year that we could use all to go back to normal. Choosing to see the positive side of things are especially difficult during these times, but what else can we do ? "
   ]
  },
  {
   "cell_type": "markdown",
   "metadata": {},
   "source": [
    "See you on the next post"
   ]
  },
  {
   "cell_type": "code",
   "execution_count": null,
   "metadata": {},
   "outputs": [],
   "source": []
  }
 ],
 "metadata": {
  "kernelspec": {
   "display_name": "Python 3",
   "language": "python",
   "name": "python3"
  },
  "language_info": {
   "codemirror_mode": {
    "name": "ipython",
    "version": 3
   },
   "file_extension": ".py",
   "mimetype": "text/x-python",
   "name": "python",
   "nbconvert_exporter": "python",
   "pygments_lexer": "ipython3",
   "version": "3.8.5"
  }
 },
 "nbformat": 4,
 "nbformat_minor": 4
}
